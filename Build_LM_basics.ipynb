{
 "cells": [
  {
   "cell_type": "code",
   "execution_count": 1,
   "id": "c10eac82",
   "metadata": {},
   "outputs": [],
   "source": [
    "import numpy as np\n",
    "import matplotlib.pyplot as plt"
   ]
  },
  {
   "cell_type": "code",
   "execution_count": 557,
   "id": "a19cfcba",
   "metadata": {},
   "outputs": [],
   "source": [
    "class RediCell:\n",
    "    \n",
    "    def __init__(self, sides=None, spacing=None, t_step=None, molecule_types=None, wall=True):\n",
    "        # sides in number of voxels\n",
    "        # spacing in m\n",
    "        # \"wall\" adds one extra cell each direction, set as barrier\n",
    "        self.spacing = spacing\n",
    "        # Should be a list of Molecule instances\n",
    "        self.molecule_types = molecule_types\n",
    "        self.num_types = len(self.molecule_types)\n",
    "        self.mol_to_id = {mol.molecule_name: idx for idx, mol in enumerate(self.molecule_types)}\n",
    "        self.id_to_mol = {idx: mol.molecule_name for idx, mol in enumerate(self.molecule_types)}\n",
    "        self.wall = wall\n",
    "        self.initialized = False\n",
    "        self.voxel_matrix = []\n",
    "        if sides == None:\n",
    "            self.side_x = self.side_y = None\n",
    "        elif isinstance(sides, int):\n",
    "            self.side_x = sides\n",
    "            self.side_y = sides\n",
    "        else:\n",
    "            self.side_x, self.side_y = sides\n",
    "            \n",
    "        if self.wall:\n",
    "            self.true_x = self.side_x + 2\n",
    "            self.true_y = self.side_y + 2\n",
    "        else:\n",
    "            self.true_x = self.side_x\n",
    "            self.true_y = self.side_y\n",
    "\n",
    "        self.t_step = t_step\n",
    "        self.action_vector = None\n",
    "    \n",
    "    def partition(self):\n",
    "        # creates a list of list of Voxels\n",
    "        if self.action_vector is None:\n",
    "            self.construct_possible_actions()\n",
    "            print(f'Action vector is {self.action_vector}')\n",
    "        molecule_count = np.array([0 for mtype in self.molecule_types])\n",
    "        self.voxel_matrix = []\n",
    "        for x in range(self.true_x):\n",
    "            voxel_row = []\n",
    "            for y in range(self.true_y):\n",
    "                voxel_row.append(Voxel(molecule_count=molecule_count, spacing=self.spacing, action_vector=self.action_vector.copy()))\n",
    "            self.voxel_matrix.append(voxel_row)\n",
    "\n",
    "        if self.wall:\n",
    "            self.set_border_wall()\n",
    "        self.edit_action_vector()\n",
    "        self.voxel_matrix = np.array(self.voxel_matrix)\n",
    "\n",
    "    def set_border_wall(self): \n",
    "        for y in range(self.true_y):\n",
    "            self.voxel_matrix[0][y].is_barrier = True\n",
    "            self.voxel_matrix[-1][y].is_barrier = True\n",
    "        for x in range(self.true_x):\n",
    "            self.voxel_matrix[x][0].is_barrier = True\n",
    "            self.voxel_matrix[x][-1].is_barrier = True\n",
    "    \n",
    "    def edit_action_vector(self):\n",
    "        # Edit action vector\n",
    "        for x in range(self.true_x):\n",
    "            for y in range(self.true_y):\n",
    "                if x == 0: # up\n",
    "                    self.voxel_matrix[x][y].action_vector[0:4*self.num_types:4] = 0\n",
    "                if x == self.true_x - 1: # down\n",
    "                    self.voxel_matrix[x][y].action_vector[1:4*self.num_types:4] = 0\n",
    "                if y == 0: # left\n",
    "                    self.voxel_matrix[x][y].action_vector[2:4*self.num_types:4] = 0\n",
    "                if y == self.true_y - 1: # right\n",
    "                    self.voxel_matrix[x][y].action_vector[3:4*self.num_types:4] = 0\n",
    "        for x in range(1, self.true_x - 1):\n",
    "            for y in range(1, self.true_y - 1):\n",
    "                if self.voxel_matrix[x-1][y].is_barrier:\n",
    "                    # print(f'row {x}, column {y}, row above is barrier')\n",
    "                    self.voxel_matrix[x][y].action_vector[0:4*self.num_types:4] = 0\n",
    "                if self.voxel_matrix[x+1][y].is_barrier:\n",
    "                    # print(f'row {x}, column {y}, row below is barrier')\n",
    "                    self.voxel_matrix[x][y].action_vector[1:4*self.num_types:4] = 0\n",
    "                if self.voxel_matrix[x][y-1].is_barrier:\n",
    "                    # print(f'row {x}, column {y}, column to the left is barrier')\n",
    "                    self.voxel_matrix[x][y].action_vector[2:4*self.num_types:4] = 0\n",
    "                if self.voxel_matrix[x][y+1].is_barrier:\n",
    "                    # print(f'row {x}, column {y}, column to the right is barrier')\n",
    "                    self.voxel_matrix[x][y].action_vector[3:4*self.num_types:4] = 0\n",
    "        # for x in range(1, self.true_x - 1):\n",
    "        #     for y in range(1, self.true_y - 1):\n",
    "        #         print(f'row {x}, column {y}, action_vector {self.voxel_matrix[x][y].action_vector}')\n",
    "    \n",
    "    def plot_wall(self):\n",
    "        voxel_map = np.zeros(self.voxel_matrix.shape)\n",
    "        for x in range(self.true_x):\n",
    "            for y in range(self.true_y):\n",
    "                voxel_map[x][y] = self.voxel_matrix[x][y].is_barrier\n",
    "        plt.imshow(voxel_map)\n",
    "        \n",
    "    def initialize(self):\n",
    "        assert self.initialized == False\n",
    "        # Set condition based on initial conditions\n",
    "        # Set external conditions\n",
    "        # Compile all possible reactions (diffuse to 4 neighbors, reactions, and do nothing)\n",
    "        # Calculate largest possible timestep\n",
    "        self.initialized = True\n",
    "\n",
    "    def add_reaction_set(self, reaction_set=None):\n",
    "        pass\n",
    "    \n",
    "    def list_reaction_set(self):\n",
    "        pass\n",
    "    \n",
    "    def construct_possible_actions(self):\n",
    "        # up, down, left, right for each kind of molecule\n",
    "        # then reactions\n",
    "        action_vector = []\n",
    "        for mol in self.molecule_types:\n",
    "            for direction in range(4): # up down left right\n",
    "                # this results in unit of second per molecule\n",
    "                action_vector.append(mol.diffusion_coefficient / self.spacing**2) \n",
    "        \n",
    "        # for rx in self.reaction_set:\n",
    "        #     action_vector.append(\n",
    "        # pass\n",
    "        self.action_vector = np.array(action_vector)\n",
    "        print('Action list:')\n",
    "        for mol in self.molecule_types:\n",
    "            print(f'Diffusion of {mol.molecule_name} (4 directions)')\n",
    "    \n",
    "    def determine_maximum_timestep(self):\n",
    "        print(f'Max time step is {1 / np.max(self.action_vector) / 4:.2e} s / particle per voxel (divide by max number of mol in one voxel)')\n",
    "        return 1 / np.max(self.action_vector) / 4\n",
    "        \n",
    "    def add_molecules(self, molecule_type, molecule_count):\n",
    "        self.molecule_count[molecule_type] = molecule_count\n",
    "        # distribute molecules randomly\n",
    "        pass\n",
    "\n",
    "    def maintain_external_conditions(self):\n",
    "        pass\n",
    "\n",
    "    def react_diffuse(self, t_step):\n",
    "        for x in range(self.true_x):\n",
    "            for y in range(self.true_y):\n",
    "                if not self.voxel_matrix[x][y].is_barrier:\n",
    "                    action = self.voxel_matrix[x][y].determine_action(t_step)\n",
    "                    if action < len(self.action_vector):\n",
    "                        print(f'{x}, {y}: action {action}')\n",
    "        # Apply action\n",
    "        for x in range(self.true_x):\n",
    "            for y in range(self.true_y):\n",
    "        \n",
    "    \n",
    "    def simulate(self, steps):\n",
    "        if not self.initialized:\n",
    "            self.initialize()\n",
    "        for step in steps:\n",
    "            self.maintain_external_conditions()\n",
    "            self.react_diffuse(self.t_step)\n",
    "\n",
    "    def plot_type_count(self, mol_type):\n",
    "        voxel_map = np.zeros(self.voxel_matrix.shape)\n",
    "        for x in range(self.true_x):\n",
    "            for y in range(self.true_y):\n",
    "                voxel_map[x][y] = self.voxel_matrix[x][y].molecule_count[self.mol_to_id[mol_type]]\n",
    "        plt.imshow(voxel_map)\n",
    "    \n",
    "class Voxel:\n",
    "    def __init__(self, molecule_count=[], spacing=None, is_barrier=False, action_vector=None):\n",
    "        self.molecule_count = molecule_count\n",
    "        self.is_barrier = is_barrier\n",
    "        self.spacing = spacing\n",
    "        self.action_vector = action_vector\n",
    "    def add_molecule(self, molecule_type, molecule_count):\n",
    "        self.molecule_count[molecule_type] += molecule_count\n",
    "    def set_molecule(self, molecule_type, molecule_count):\n",
    "        self.molecule_count[molecule_type] = molecule_count\n",
    "    def compute_transition_vector(self, t):\n",
    "        return np.pad(np.cumsum(np.repeat(self.molecule_count, 4) * self.action_vector * t), (0, 1), constant_values=1)\n",
    "    def determine_action(self, t):\n",
    "        transition_vector = self.compute_transition_vector(t)\n",
    "        if np.sum(transition_vector[-2]) > 1:\n",
    "            print('Warning: transition probability > 1')\n",
    "        return np.argmax(np.random.random() < transition_vector)\n",
    "    \n",
    "class Molecule:\n",
    "    def __init__(self, molecule_name, diffusion_coefficient):\n",
    "        # diffusion_coefficient in m^2 / s, so a value like 1e-13 m^2/s is likely\n",
    "        self.molecule_name = molecule_name\n",
    "        self.diffusion_coefficient = diffusion_coefficient\n",
    "\n",
    "class ReactionSet:\n",
    "    def __init__(self):\n",
    "        self.reaction_set = {}\n",
    "    def add_reaction(self, reagent, reaction_coefficient):\n",
    "        # reagent can be [typeA, typeB] for bimolecular reaction\n",
    "        # or [typeA] or typeA for unimolecular reaction\n",
    "        self.reaction_set[frozenset(reagent)] = reaction_coefficient\n",
    "        "
   ]
  },
  {
   "cell_type": "code",
   "execution_count": 558,
   "id": "76476c2e-5947-405b-8ddb-83e02c7b298c",
   "metadata": {},
   "outputs": [],
   "source": [
    "mol_A = Molecule('A', diffusion_coefficient=8.15e-14)"
   ]
  },
  {
   "cell_type": "code",
   "execution_count": 559,
   "id": "a79085f4",
   "metadata": {},
   "outputs": [],
   "source": [
    "a = RediCell(sides=[32, 32], spacing=31.25e-9, molecule_types=[mol_A], t_step=2e-3)"
   ]
  },
  {
   "cell_type": "code",
   "execution_count": 560,
   "id": "51a0e049-f11a-4289-a04c-b8423f6708bf",
   "metadata": {},
   "outputs": [
    {
     "data": {
      "text/plain": [
       "{'A': 0}"
      ]
     },
     "execution_count": 560,
     "metadata": {},
     "output_type": "execute_result"
    }
   ],
   "source": [
    "a.mol_to_id"
   ]
  },
  {
   "cell_type": "code",
   "execution_count": 561,
   "id": "5017422b-f15d-43aa-9342-63bb178f5063",
   "metadata": {},
   "outputs": [
    {
     "data": {
      "text/plain": [
       "{0: 'A'}"
      ]
     },
     "execution_count": 561,
     "metadata": {},
     "output_type": "execute_result"
    }
   ],
   "source": [
    "a.id_to_mol"
   ]
  },
  {
   "cell_type": "code",
   "execution_count": 562,
   "id": "c44447bd-8ef6-4234-ad54-16667b5b4aad",
   "metadata": {},
   "outputs": [
    {
     "name": "stdout",
     "output_type": "stream",
     "text": [
      "Action list:\n",
      "Diffusion of A (4 directions)\n",
      "Action vector is [83.456 83.456 83.456 83.456]\n"
     ]
    }
   ],
   "source": [
    "a.partition()"
   ]
  },
  {
   "cell_type": "code",
   "execution_count": 563,
   "id": "890ac7b3-34ae-431a-956d-17042dff8692",
   "metadata": {},
   "outputs": [
    {
     "data": {
      "text/plain": [
       "array([[<__main__.Voxel object at 0x7fec71ea3850>,\n",
       "        <__main__.Voxel object at 0x7fec71ea38e0>,\n",
       "        <__main__.Voxel object at 0x7fec71ea27d0>],\n",
       "       [<__main__.Voxel object at 0x7fec71ed14b0>,\n",
       "        <__main__.Voxel object at 0x7fec71ed1420>,\n",
       "        <__main__.Voxel object at 0x7fec71ed13f0>],\n",
       "       [<__main__.Voxel object at 0x7fec71ed0ac0>,\n",
       "        <__main__.Voxel object at 0x7fec71ed0790>,\n",
       "        <__main__.Voxel object at 0x7fec71ed0760>]], dtype=object)"
      ]
     },
     "execution_count": 563,
     "metadata": {},
     "output_type": "execute_result"
    }
   ],
   "source": [
    "a.voxel_matrix[2:5, 2:5]"
   ]
  },
  {
   "cell_type": "code",
   "execution_count": 564,
   "id": "c097100d-0cef-4d36-ad39-08498dcbae32",
   "metadata": {},
   "outputs": [
    {
     "name": "stdout",
     "output_type": "stream",
     "text": [
      "Action list:\n",
      "Diffusion of A (4 directions)\n"
     ]
    }
   ],
   "source": [
    "a.construct_possible_actions()"
   ]
  },
  {
   "cell_type": "code",
   "execution_count": 565,
   "id": "41056c49-a1d5-4579-a206-08c8f0e024fa",
   "metadata": {},
   "outputs": [
    {
     "data": {
      "text/plain": [
       "array([83.456, 83.456, 83.456, 83.456])"
      ]
     },
     "execution_count": 565,
     "metadata": {},
     "output_type": "execute_result"
    }
   ],
   "source": [
    "a.action_vector"
   ]
  },
  {
   "cell_type": "code",
   "execution_count": 566,
   "id": "f687b79c-8a89-4ff5-b29a-1fa941efe57d",
   "metadata": {},
   "outputs": [
    {
     "data": {
      "text/plain": [
       "array([20, 22, 16, 16,  8])"
      ]
     },
     "execution_count": 566,
     "metadata": {},
     "output_type": "execute_result"
    }
   ],
   "source": [
    "np.random.randint(1, 32, 5)"
   ]
  },
  {
   "cell_type": "code",
   "execution_count": 567,
   "id": "2b389516-4487-4bcd-9ed6-f476daac7fd2",
   "metadata": {},
   "outputs": [],
   "source": [
    "for i in np.random.randint(1, 32, 5):\n",
    "    a.voxel_matrix[i, i].molecule_count = np.array([5])"
   ]
  },
  {
   "cell_type": "code",
   "execution_count": 568,
   "id": "2ae3b13b-2e22-4bb2-a755-b784067fcd54",
   "metadata": {},
   "outputs": [
    {
     "data": {
      "text/plain": [
       "array([83.456,  0.   , 83.456, 83.456])"
      ]
     },
     "execution_count": 568,
     "metadata": {},
     "output_type": "execute_result"
    }
   ],
   "source": [
    "a.voxel_matrix[32, 5].action_vector"
   ]
  },
  {
   "cell_type": "code",
   "execution_count": 569,
   "id": "9f7bcafc-ac51-43c5-bef5-98b23391359d",
   "metadata": {},
   "outputs": [
    {
     "data": {
      "image/png": "[encoded data removed]",
      "text/plain": [
       "<Figure size 640x480 with 1 Axes>"
      ]
     },
     "metadata": {},
     "output_type": "display_data"
    }
   ],
   "source": [
    "a.plot_wall()"
   ]
  },
  {
   "cell_type": "code",
   "execution_count": 570,
   "id": "a51a63ba-e9cc-4c12-8609-4de9c93b7dab",
   "metadata": {},
   "outputs": [
    {
     "data": {
      "image/png": "[encoded data removed]",
      "text/plain": [
       "<Figure size 640x480 with 1 Axes>"
      ]
     },
     "metadata": {},
     "output_type": "display_data"
    }
   ],
   "source": [
    "a.plot_type_count('A')"
   ]
  },
  {
   "cell_type": "code",
   "execution_count": 571,
   "id": "40600c23-a610-49c2-98d8-70b0fc69d0be",
   "metadata": {},
   "outputs": [
    {
     "name": "stdout",
     "output_type": "stream",
     "text": [
      "Max time step is 3.00e-03 s / particle per voxel (divide by max number of mol in one voxel)\n"
     ]
    },
    {
     "data": {
      "text/plain": [
       "0.002995590490797546"
      ]
     },
     "execution_count": 571,
     "metadata": {},
     "output_type": "execute_result"
    }
   ],
   "source": [
    "a.determine_maximum_timestep()"
   ]
  },
  {
   "cell_type": "code",
   "execution_count": 572,
   "id": "aa191a51-6500-450b-a4c4-efa679eab4dc",
   "metadata": {},
   "outputs": [
    {
     "name": "stdout",
     "output_type": "stream",
     "text": [
      "0.26878578610154247\n",
      "[0. 0. 0. 0. 1.]\n"
     ]
    },
    {
     "data": {
      "text/plain": [
       "4"
      ]
     },
     "execution_count": 572,
     "metadata": {},
     "output_type": "execute_result"
    }
   ],
   "source": [
    "r = np.random.random()\n",
    "print(r)\n",
    "tv = a.voxel_matrix[5, 5].compute_transition_vector(2e-3)\n",
    "print(tv)\n",
    "np.argmax(r < tv)"
   ]
  },
  {
   "cell_type": "code",
   "execution_count": 585,
   "id": "64432415-f620-4e5e-bfe6-778e3b545296",
   "metadata": {},
   "outputs": [
    {
     "name": "stdout",
     "output_type": "stream",
     "text": [
      "11, 11: action 3\n",
      "13, 13: action 1\n",
      "20, 20: action 2\n"
     ]
    }
   ],
   "source": [
    "a.react_diffuse(2e-4)"
   ]
  },
  {
   "cell_type": "code",
   "execution_count": null,
   "id": "bd2dc0a7-3a46-48e8-85b0-fa3569c95932",
   "metadata": {},
   "outputs": [],
   "source": []
  },
  {
   "cell_type": "code",
   "execution_count": null,
   "id": "2144a2df-2782-40f1-a957-840f3391b992",
   "metadata": {},
   "outputs": [],
   "source": []
  },
  {
   "cell_type": "code",
   "execution_count": null,
   "id": "bac9e85d-34dd-418f-8dd1-e30897bf722a",
   "metadata": {},
   "outputs": [],
   "source": []
  },
  {
   "cell_type": "code",
   "execution_count": 38,
   "id": "9c60904a",
   "metadata": {},
   "outputs": [],
   "source": [
    "r = ReactionSet()"
   ]
  },
  {
   "cell_type": "code",
   "execution_count": 26,
   "id": "f7c0e8e9",
   "metadata": {},
   "outputs": [
    {
     "data": {
      "text/plain": [
       "{frozenset({'A', 'B'}): 3.5e-05}"
      ]
     },
     "execution_count": 26,
     "metadata": {},
     "output_type": "execute_result"
    }
   ],
   "source": [
    "r.reaction_set"
   ]
  },
  {
   "cell_type": "code",
   "execution_count": 29,
   "id": "2c17e073",
   "metadata": {},
   "outputs": [
    {
     "data": {
      "text/plain": [
       "3.5e-05"
      ]
     },
     "execution_count": 29,
     "metadata": {},
     "output_type": "execute_result"
    }
   ],
   "source": [
    "r.reaction_set[frozenset(['A','B'])]"
   ]
  },
  {
   "cell_type": "code",
   "execution_count": 30,
   "id": "24991331",
   "metadata": {},
   "outputs": [
    {
     "data": {
      "text/plain": [
       "2"
      ]
     },
     "execution_count": 30,
     "metadata": {},
     "output_type": "execute_result"
    }
   ],
   "source": []
  },
  {
   "cell_type": "code",
   "execution_count": null,
   "id": "ca62d954",
   "metadata": {},
   "outputs": [],
   "source": []
  }
 ],
 "metadata": {
  "kernelspec": {
   "display_name": "Python 3 (ipykernel)",
   "language": "python",
   "name": "python3"
  },
  "language_info": {
   "codemirror_mode": {
    "name": "ipython",
    "version": 3
   },
   "file_extension": ".py",
   "mimetype": "text/x-python",
   "name": "python",
   "nbconvert_exporter": "python",
   "pygments_lexer": "ipython3",
   "version": "3.10.13"
  }
 },
 "nbformat": 4,
 "nbformat_minor": 5
}
