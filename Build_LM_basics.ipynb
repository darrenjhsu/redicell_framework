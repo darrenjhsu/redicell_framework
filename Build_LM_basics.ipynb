{
 "cells": [
  {
   "cell_type": "code",
   "execution_count": 1,
   "id": "c10eac82",
   "metadata": {},
   "outputs": [],
   "source": [
    "import numpy as np\n",
    "import pysb"
   ]
  },
  {
   "cell_type": "code",
   "execution_count": 22,
   "id": "a19cfcba",
   "metadata": {},
   "outputs": [],
   "source": [
    "class Volume:\n",
    "    def __init__(self, sides, spacing, molecule_types, pad=True):\n",
    "        # sides in nm\n",
    "        # spacing in nm\n",
    "        # pad adds one extra cell each direction\n",
    "        if isinstance(sides, int):\n",
    "            self.sidex = sides\n",
    "            self.sidey = sides\n",
    "        else:\n",
    "            self.sidex, self.sidey = sides\n",
    "        self.spacing = spacing\n",
    "        self.molecule_types = molecule_types\n",
    "        self.molecule_count = {mtype: 0 for mtype in self.molecule_types}\n",
    "        self.pad = pad\n",
    "    def partition(self):\n",
    "        # creates an list of list of subvolumes\n",
    "        pass\n",
    "    def add_molecules(self, molecule_type, molecule_count):\n",
    "        self.molecule_count[molecule_type] = molecule_count\n",
    "        # distribute molecules randomly\n",
    "        pass\n",
    "    \n",
    "class Subvolume:\n",
    "    def __init__(self, uid, molecule_count={}):\n",
    "        self.uid = uid\n",
    "        self.molecule_count = molecule_count\n",
    "    def add_molecule(self, molecule_type, molecule_count):\n",
    "        self.molecule_count[molecule_type] += molecule_count\n",
    "    \n",
    "class Molecule:\n",
    "    def __init__(self, molecule_type, diffusion_coefficient):\n",
    "        self.molecule_type = molecule_type\n",
    "        self.diffusion_coefficient = diffusion_coefficient\n",
    "\n",
    "class ReactionSet:\n",
    "    def __init__(self):\n",
    "        self.reaction_set = {}\n",
    "    def add_reaction(self, reagent, reaction_coefficient):\n",
    "        # reagent can be [typeA, typeB] for bimolecular reaction\n",
    "        # or [typeA] or typeA for unimolecular reaction\n",
    "        self.reaction_set[frozenset(reagent)] = reaction_coefficient\n",
    "        "
   ]
  },
  {
   "cell_type": "code",
   "execution_count": 23,
   "id": "a79085f4",
   "metadata": {},
   "outputs": [],
   "source": [
    "a = Volume(sides=[8, 8], spacing=1, molecule_types=['A','B'], )"
   ]
  },
  {
   "cell_type": "code",
   "execution_count": 24,
   "id": "9c60904a",
   "metadata": {},
   "outputs": [],
   "source": [
    "r = ReactionSet()"
   ]
  },
  {
   "cell_type": "code",
   "execution_count": 25,
   "id": "2179f5cc",
   "metadata": {},
   "outputs": [],
   "source": [
    "r.add_reaction(reagent=['A', 'B'], reaction_coefficient=3.5e-5)"
   ]
  },
  {
   "cell_type": "code",
   "execution_count": 26,
   "id": "f7c0e8e9",
   "metadata": {},
   "outputs": [
    {
     "data": {
      "text/plain": [
       "{frozenset({'A', 'B'}): 3.5e-05}"
      ]
     },
     "execution_count": 26,
     "metadata": {},
     "output_type": "execute_result"
    }
   ],
   "source": [
    "r.reaction_set"
   ]
  },
  {
   "cell_type": "code",
   "execution_count": 29,
   "id": "2c17e073",
   "metadata": {},
   "outputs": [
    {
     "data": {
      "text/plain": [
       "3.5e-05"
      ]
     },
     "execution_count": 29,
     "metadata": {},
     "output_type": "execute_result"
    }
   ],
   "source": [
    "r.reaction_set[frozenset(['A','B'])]"
   ]
  },
  {
   "cell_type": "code",
   "execution_count": 30,
   "id": "24991331",
   "metadata": {},
   "outputs": [
    {
     "data": {
      "text/plain": [
       "2"
      ]
     },
     "execution_count": 30,
     "metadata": {},
     "output_type": "execute_result"
    }
   ],
   "source": []
  },
  {
   "cell_type": "code",
   "execution_count": null,
   "id": "ca62d954",
   "metadata": {},
   "outputs": [],
   "source": []
  }
 ],
 "metadata": {
  "kernelspec": {
   "display_name": "Python 3 (ipykernel)",
   "language": "python",
   "name": "python3"
  },
  "language_info": {
   "codemirror_mode": {
    "name": "ipython",
    "version": 3
   },
   "file_extension": ".py",
   "mimetype": "text/x-python",
   "name": "python",
   "nbconvert_exporter": "python",
   "pygments_lexer": "ipython3",
   "version": "3.9.18"
  }
 },
 "nbformat": 4,
 "nbformat_minor": 5
}
